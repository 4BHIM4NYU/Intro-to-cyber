{
  "nbformat": 4,
  "nbformat_minor": 0,
  "metadata": {
    "colab": {
      "provenance": [],
      "toc_visible": true,
      "authorship_tag": "ABX9TyOBpZLDslaLIQvI8NHW4R9U",
      "include_colab_link": true
    },
    "kernelspec": {
      "name": "python3",
      "display_name": "Python 3"
    },
    "language_info": {
      "name": "python"
    }
  },
  "cells": [
    {
      "cell_type": "markdown",
      "metadata": {
        "id": "view-in-github",
        "colab_type": "text"
      },
      "source": [
        "<a href=\"https://colab.research.google.com/github/4BHIM4NYU/Intro-to-cyber/blob/main/Untitled1.ipynb\" target=\"_parent\"><img src=\"https://colab.research.google.com/assets/colab-badge.svg\" alt=\"Open In Colab\"/></a>"
      ]
    },
    {
      "cell_type": "markdown",
      "source": [
        " *Implemention of any two symmetric encryption algorithms*\n",
        "\n",
        "1.CAESAR CIPHER:\n",
        "It's a substitution cipher where each letter in the plaintext is shifted a certain number of places down or up the alphabet.\n",
        "\n",
        "ENCRYPTION:\n",
        "Start with a message you want to encrypt.\n",
        "For each letter in the message,shift the letter to the right by the key value.\n",
        "Wrap around the alphabet if you reach the end.The shifted letters form the encrypted message .\n",
        "\n",
        "DECRYPTION:\n",
        "To decrypt the message, you reverse the process.\n",
        "Start with the encrypted message .For each letter in the ciphertext,shift the letter to the left by the key value.Wrap around the alphabet if you reach the beginning.\n",
        "The shifted letters form the decrypted message\n",
        "\n",
        "\n",
        "\n"
      ],
      "metadata": {
        "id": "cJdrx2IHHyUx"
      }
    },
    {
      "cell_type": "code",
      "source": [
        "def caesar_cipher_encrypt(text, shift):\n",
        "    encrypted_text = ''\n",
        "    for char in text:\n",
        "        if char.isalpha():\n",
        "            shifted = ord(char) + shift\n",
        "            if char.islower():\n",
        "                if shifted > ord('z'):\n",
        "                    shifted -= 26\n",
        "                elif shifted < ord('a'):\n",
        "                    shifted += 26\n",
        "            elif char.isupper():\n",
        "                if shifted > ord('Z'):\n",
        "                    shifted -= 26\n",
        "                elif shifted < ord('A'):\n",
        "                    shifted += 26\n",
        "            encrypted_text += chr(shifted)\n",
        "        else:\n",
        "            encrypted_text += char\n",
        "    return encrypted_text\n",
        "\n",
        "def caesar_cipher_decrypt(encrypted_text, shift):\n",
        "    return caesar_cipher_encrypt(encrypted_text, -shift)\n",
        "\n",
        "plaintext =input(\"Enter the plaintext:\")\n",
        "shift =int(input(\"Enter shift position:\"))\n",
        "encrypted = caesar_cipher_encrypt(plaintext, shift)\n",
        "print(\"Encrypted:\", encrypted)\n",
        "decrypted = caesar_cipher_decrypt(encrypted, shift)\n",
        "print(\"Decrypted:\", decrypted)"
      ],
      "metadata": {
        "colab": {
          "base_uri": "https://localhost:8080/"
        },
        "id": "Zy7xqwQbI6ln",
        "outputId": "52300b27-0b70-4970-aa7f-69566c5c3aad"
      },
      "execution_count": 4,
      "outputs": [
        {
          "output_type": "stream",
          "name": "stdout",
          "text": [
            "Enter the plaintext:happy\n",
            "Enter shift position:2\n",
            "Encrypted: jcrra\n",
            "Decrypted: happy\n"
          ]
        }
      ]
    },
    {
      "cell_type": "markdown",
      "source": [
        "2) Vigenère Cipher:\n",
        "  The Vigenère Cipher is a method of encrypting alphabetic text based on a simple form of polyalphabetic substitution.\n",
        "Key:\n",
        "The key for the Vigenère Cipher is a word\n",
        "\n",
        "ENCRYPTION:\n",
        "Start with a message (plaintext) you want to encrypt and a keyword.\n",
        "Repeat the keyword until it's at least as long as the plaintext.\n",
        "For each letter in the plaintext:\n",
        "Determine the corresponding letter in the keyword.\n",
        "Use the Caesar cipher technique with the shift value determined by the keyword letter to encrypt the plaintext letter.\n",
        "Move to the next letter in the keyword for the next letter in the plaintext.\n",
        "The encrypted message (ciphertext) is formed by these shifted letters.\n",
        "\n",
        "DECRYPTION:\n",
        "To decrypt the message, you reverse the process.\n",
        "\n",
        "\n",
        "\n"
      ],
      "metadata": {
        "id": "2EWWM9atLtrd"
      }
    },
    {
      "cell_type": "code",
      "source": [
        "def encr(plain_txt, key):\n",
        "    alphabet_dictionary = {\n",
        "        'a': 0, 'b': 1, 'c': 2, 'd': 3, 'e': 4, 'f': 5, 'g': 6, 'h': 7, 'i': 8, 'j': 9, 'k': 10,\n",
        "        'l': 11, 'm': 12, 'n': 13, 'o': 14, 'p': 15, 'q': 16, 'r': 17, 's': 18, 't': 19, 'u': 20,\n",
        "        'v': 21, 'w': 22, 'x': 23, 'y': 24, 'z': 25\n",
        "    }\n",
        "\n",
        "    encr_txt = \"\"\n",
        "    for char, k in zip(plain_txt, key):\n",
        "        if char.isalpha():\n",
        "            new_indx = (alphabet_dictionary[char] + alphabet_dictionary[k.lower()]) % 26\n",
        "            cipher_txt = next(key for key, value in alphabet_dictionary.items() if value == new_indx)\n",
        "            if char.isupper():\n",
        "                cipher_txt = cipher_txt.upper()\n",
        "            encr_txt += cipher_txt\n",
        "        else:\n",
        "            encr_txt += char\n",
        "    return encr_txt\n",
        "\n",
        "def decr(encr_txt, key):\n",
        "    alphabet_dictionary = {\n",
        "        'a': 0, 'b': 1, 'c': 2, 'd': 3, 'e': 4, 'f': 5, 'g': 6, 'h': 7, 'i': 8, 'j': 9, 'k': 10,\n",
        "        'l': 11, 'm': 12, 'n': 13, 'o': 14, 'p': 15, 'q': 16, 'r': 17, 's': 18, 't': 19, 'u': 20,\n",
        "        'v': 21, 'w': 22, 'x': 23, 'y': 24, 'z': 25\n",
        "    }\n",
        "\n",
        "    decr_txt = \"\"\n",
        "    for char, k in zip(encr_txt, key):\n",
        "        if char.isalpha():\n",
        "            old_indx = (alphabet_dictionary[char] - alphabet_dictionary[k.lower()]) % 26\n",
        "            plain_txt = next(key for key, value in alphabet_dictionary.items() if value == old_indx)\n",
        "            if char.isupper():\n",
        "                plain_txt = plain_txt.upper()\n",
        "            decr_txt += plain_txt\n",
        "        else:\n",
        "            decr_txt += char\n",
        "    return decr_txt\n",
        "\n",
        "txt = input(\"Enter the plain text: \")\n",
        "key = input(\"Enter the key: \")\n",
        "encrypted_text = encr(txt, key)\n",
        "print(\"Encrypted text:\", encrypted_text)\n",
        "\n",
        "decrypted_text = decr(encrypted_text, key)\n",
        "print(\"Decrypted text:\", decrypted_text)\n",
        "\n"
      ],
      "metadata": {
        "colab": {
          "base_uri": "https://localhost:8080/"
        },
        "id": "5neVW5oyLurn",
        "outputId": "5aee1d65-f9d5-40ee-94d6-fd19fc7bf72d"
      },
      "execution_count": 8,
      "outputs": [
        {
          "output_type": "stream",
          "name": "stdout",
          "text": [
            "Enter the plain text: happy\n",
            "Enter the key: kimml\n",
            "Encrypted text: ribbj\n",
            "Decrypted text: happy\n"
          ]
        }
      ]
    },
    {
      "cell_type": "markdown",
      "source": [
        "\n",
        "**Implementation any two Asymmetric encryption algorithms**\n",
        "\n",
        "1)RSA ALGORITHM:\n",
        "\n",
        "- RSA is ansymmetric encryption algorithm. RSA is based on difficulty in factorization of large prime numbers.\n",
        "\n",
        "\n",
        " **Key Generation**:\n",
        "   - RSA involves the generation of a public key and a private key pair.\n",
        "   - Public Key: Used for encryption and known to everyone.\n",
        "   - Private Key: Used for decryption and kept secret by the receiver.\n",
        "\n",
        " **Encryption** :\n",
        "   - To send a message (plaintext) to someone, the sender uses the recipient's public key.\n",
        "   - Convert the plaintext message into an integer representation.\n",
        "   - Encrypt the plaintext using the recipient's public key (n, e) with the formula: ciphertext = (plaintext^e) % n.\n",
        "   - The sender sends the ciphertext to the recipient.\n",
        "\n",
        " **Decryption**:\n",
        "   - The recipient uses their private key to decrypt the ciphertext.\n",
        "   - They receive the ciphertext and apply the decryption formula: plaintext = (ciphertext^d) % n.\n",
        "   - This recovers the original plaintext message.\n",
        "\n"
      ],
      "metadata": {
        "id": "WgOtgDQeNtdq"
      }
    },
    {
      "cell_type": "code",
      "source": [
        "import random\n",
        "\n",
        "def gcd(a, b):\n",
        "    while b != 0:\n",
        "        a, b = b, a % b\n",
        "    return a\n",
        "\n",
        "def mod_inverse(a, m):\n",
        "    m0, x0, x1 = m, 0, 1\n",
        "    while a > 1:\n",
        "        q = a // m\n",
        "        m, a = a % m, m\n",
        "        x0, x1 = x1 - q * x0, x0\n",
        "    return x1 + m0 if x1 < 0 else x1\n",
        "\n",
        "def is_prime(n, k=5):\n",
        "    if n <= 1:\n",
        "        return False\n",
        "    if n <= 3:\n",
        "        return True\n",
        "    for _ in range(k):\n",
        "        a = random.randint(2, n - 1)\n",
        "        if gcd(n, a) != 1:\n",
        "            return False\n",
        "        if pow(a, n - 1, n) != 1:\n",
        "            return False\n",
        "    return True\n",
        "\n",
        "def generate_keypair(p, q):\n",
        "    if not (is_prime(p) and is_prime(q)):\n",
        "        raise ValueError(\"Both numbers must be prime.\")\n",
        "    n = p * q\n",
        "    phi = (p - 1) * (q - 1)\n",
        "    e = random.randrange(1, phi)\n",
        "    while gcd(e, phi) != 1:\n",
        "        e = random.randrange(1, phi)\n",
        "    d = mod_inverse(e, phi)\n",
        "    return ((e, n), (d, n))\n",
        "\n",
        "def encrypt(public_key, plaintext):\n",
        "    e, n = public_key\n",
        "    ciphertext = [pow(ord(char), e, n) for char in plaintext]\n",
        "    return ciphertext\n",
        "\n",
        "def decrypt(private_key, ciphertext):\n",
        "    d, n = private_key\n",
        "    plaintext = ''.join([chr(pow(char, d, n)) for char in ciphertext])\n",
        "    return plaintext\n",
        "\n",
        "p = int(input(\"Enter the value of p (Prime Number):\"))\n",
        "q = int(input(\"Enter the value of q (Prime Number):\"))\n",
        "public_key, private_key = generate_keypair(p, q)\n",
        "print(\"Public Key:\", public_key)\n",
        "print(\"Private Key:\", private_key)\n",
        "\n",
        "plaintext = input(\"Enter the plaintext:\")\n",
        "encrypted = encrypt(public_key, plaintext)\n",
        "print(\"Encrypted:\", encrypted)\n",
        "\n",
        "decrypted = decrypt(private_key, encrypted)\n",
        "print(\"Decrypted:\", decrypted)"
      ],
      "metadata": {
        "colab": {
          "base_uri": "https://localhost:8080/"
        },
        "id": "Xy4MFE-NNtxc",
        "outputId": "e0da5c89-3000-4b2f-d137-5d8ab0729411"
      },
      "execution_count": 9,
      "outputs": [
        {
          "output_type": "stream",
          "name": "stdout",
          "text": [
            "Enter the value of p (Prime Number):67\n",
            "Enter the value of q (Prime Number):73\n",
            "Public Key: (4087, 4891)\n",
            "Private Key: (343, 4891)\n",
            "Enter the plaintext:happy\n",
            "Encrypted: [2516, 633, 42, 42, 2361]\n",
            "Decrypted: happy\n"
          ]
        }
      ]
    },
    {
      "cell_type": "markdown",
      "source": [
        "\n",
        "2) ElGamal Encryption Algorithm:\n",
        "\n",
        " The ElGamal encryption algorithm is an asymmetric encryption algorithm,is based on the mathematical properties of modular exponentiation and the discrete logarithm problem.\n",
        "\n",
        "**Key Generation**:\n",
        "   - ElGamal involves the generation of a public key and a private key pair.\n",
        "   - Public Key: Used for encryption and known to everyone.\n",
        "\n",
        "\n",
        "\n",
        " **Encryption**:\n",
        "   - To send a message (plaintext) to someone, the sender uses the recipient's public key.\n",
        " **Decryption**:\n",
        "   - The recipient uses their private key to decrypt the ciphertext.\n",
        "   \n",
        "\n"
      ],
      "metadata": {
        "id": "s0w1kT5_OFtv"
      }
    },
    {
      "cell_type": "code",
      "source": [
        "import random\n",
        "\n",
        "def gcd(a, b):\n",
        "    if a < b:\n",
        "        return gcd(b, a)\n",
        "    elif a % b == 0:\n",
        "        return b\n",
        "    else:\n",
        "        return gcd(b, a % b)\n",
        "\n",
        "def gen_key(q):\n",
        "    key = random.randint(pow(10, 20), q)\n",
        "    while gcd(q, key) != 1:\n",
        "        key = random.randint(pow(10, 20), q)\n",
        "    return key\n",
        "\n",
        "def power(a, b, c):\n",
        "    x = 1\n",
        "    y = a\n",
        "    while b > 0:\n",
        "        if b % 2 != 0:\n",
        "            x = (x * y) % c\n",
        "        y = (y * y) % c\n",
        "        b = int(b / 2)\n",
        "    return x % c\n",
        "\n",
        "def encrypt(msg, q, h, g):\n",
        "    en_msg = []\n",
        "    k = gen_key(q)  # Private key for sender\n",
        "    s = power(h, k, q)\n",
        "    p = power(g, k, q)\n",
        "    for i in range(len(msg)):\n",
        "        en_msg.append(msg[i])\n",
        "    for i in range(len(en_msg)):\n",
        "        en_msg[i] = s * ord(en_msg[i])\n",
        "    return en_msg, p\n",
        "\n",
        "def decrypt(en_msg, p, key, q):\n",
        "    dr_msg = []\n",
        "    h = power(p, key, q)\n",
        "    for i in range(len(en_msg)):\n",
        "        dr_msg.append(chr(int(en_msg[i] / h)))\n",
        "    return dr_msg\n",
        "\n",
        "def main():\n",
        "    msg = input(\"Enter the plaintext:\")\n",
        "    print(\"Original Message:\", msg)\n",
        "    q = random.randint(pow(10, 20), pow(10, 50))\n",
        "    g = random.randint(2, q)\n",
        "    key = gen_key(q)  # Private key for receiver\n",
        "    h = power(g, key, q)\n",
        "    print(\"g used (g is a generator element from the cyclic group):\", g)\n",
        "    print(\"g^a used (g^a is the result of raising g to the power of Bob’s private key):\", h)\n",
        "    en_msg, p = encrypt(msg, q, h, g)\n",
        "    dr_msg = decrypt(en_msg, p, key, q)\n",
        "    dmsg = ''.join(dr_msg)\n",
        "    print(\"Decrypted Message:\", dmsg)\n",
        "\n",
        "if __name__ == '__main__':\n",
        "    main()\n",
        "\n",
        ""
      ],
      "metadata": {
        "colab": {
          "base_uri": "https://localhost:8080/"
        },
        "id": "Xrr5OuXqOGA7",
        "outputId": "f082f2ff-a552-4a7a-fd2e-04f99ee16880"
      },
      "execution_count": 10,
      "outputs": [
        {
          "output_type": "stream",
          "name": "stdout",
          "text": [
            "Enter the plaintext:happy\n",
            "Original Message: happy\n",
            "g used (g is a generator element from the cyclic group): 49114679840016301047593528548654204956160063869730\n",
            "g^a used (g^a is the result of raising g to the power of Bob’s private key): 22873428419637242662344390870448511752705815064360\n",
            "Decrypted Message: happy\n"
          ]
        }
      ]
    },
    {
      "cell_type": "markdown",
      "source": [
        "Implement a hash function to compute the hash of a given string.\n",
        "\n",
        "1: Making the Secret Code:\n",
        "-> You give SHA-256 a message, like \"Hello, World!\".\n",
        "-> SHA-256 then performs some special math on the message to create a unique secret code.\n",
        "\n",
        "2: Special Math:\n",
        "-> SHA-256 breaks down the message into tiny pieces and mixes them up in a special way.\n",
        "-> It's like jumbling up letters in a word, but in a really complicated way that nobody can un-jumble.\n",
        "3: Creating the Code:\n",
        "-> After doing its special math, SHA-256 spits out a secret code.\n",
        "-> This code is a fixed size and looks like a long string of letters and numbers.\n",
        "\n",
        "4: Unique Codes:\n",
        "-> Even if you change just one tiny thing in the message, like adding a single letter, the secret code will completely change.\n",
        "-> This means each message has its very own unique secret code."
      ],
      "metadata": {
        "id": "M59jL8sTOow2"
      }
    },
    {
      "cell_type": "code",
      "source": [
        "import hashlib\n",
        "\n",
        "def compute_hash(input_string):\n",
        "    # Convert the input string to bytes\n",
        "    input_bytes = input_string.encode('utf-8')\n",
        "\n",
        "    # Compute the hash using SHA-256 algorithm\n",
        "    hash_result = hashlib.sha256(input_bytes).hexdigest()\n",
        "\n",
        "    return hash_result\n",
        "\n",
        "input_string =input(\"Enter the string:\")\n",
        "hash_result = compute_hash(input_string)\n",
        "print(\"Hash of '{}' is: {}\".format(input_string, hash_result))"
      ],
      "metadata": {
        "colab": {
          "base_uri": "https://localhost:8080/"
        },
        "id": "7hlUoSecOpK7",
        "outputId": "e0b77a9e-44d8-43d6-82eb-7059719a8a24"
      },
      "execution_count": 11,
      "outputs": [
        {
          "output_type": "stream",
          "name": "stdout",
          "text": [
            "Enter the string:happy\n",
            "Hash of 'happy' is: 489f719cadf919094ddb38e7654de153ac33c02febb5de91e5345cbe372cf4a0\n"
          ]
        }
      ]
    }
  ]
}